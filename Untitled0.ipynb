{
  "nbformat": 4,
  "nbformat_minor": 0,
  "metadata": {
    "colab": {
      "provenance": [],
      "authorship_tag": "ABX9TyN1n0ILs9ypFoFuphp5jgNS",
      "include_colab_link": true
    },
    "kernelspec": {
      "name": "python3",
      "display_name": "Python 3"
    },
    "language_info": {
      "name": "python"
    }
  },
  "cells": [
    {
      "cell_type": "markdown",
      "metadata": {
        "id": "view-in-github",
        "colab_type": "text"
      },
      "source": [
        "<a href=\"https://colab.research.google.com/github/KANDHICHARAN/23CSBTB39-40/blob/main/Untitled0.ipynb\" target=\"_parent\"><img src=\"https://colab.research.google.com/assets/colab-badge.svg\" alt=\"Open In Colab\"/></a>"
      ]
    },
    {
      "cell_type": "code",
      "execution_count": 1,
      "metadata": {
        "colab": {
          "base_uri": "https://localhost:8080/"
        },
        "id": "MOjqcqCA_036",
        "outputId": "c5d001ee-a92c-4cdb-aba8-3b1300f1acd7"
      },
      "outputs": [
        {
          "output_type": "stream",
          "name": "stdout",
          "text": [
            "Array with Rank 1: \n",
            " [1 2 3]\n",
            "Array with Rank 2: \n",
            " [[1 2 3]\n",
            " [4 5 6]]\n",
            "\n",
            "Array created using passed tuple:\n",
            " [1 3 2]\n"
          ]
        }
      ],
      "source": [
        "# Python program for\n",
        "# Creation of Arrays\n",
        "import numpy as np\n",
        "\n",
        "# Creating a rank 1 Array\n",
        "arr = np.array([1, 2, 3])\n",
        "print(\"Array with Rank 1: \\n\",arr)\n",
        "\n",
        "# Creating a rank 2 Array\n",
        "arr = np.array([[1, 2, 3],\n",
        "                [4, 5, 6]])\n",
        "print(\"Array with Rank 2: \\n\", arr)\n",
        "\n",
        "# Creating an array from tuple\n",
        "arr = np.array((1, 3, 2))\n",
        "print(\"\\nArray created using \"\n",
        "      \"passed tuple:\\n\", arr)"
      ]
    },
    {
      "cell_type": "code",
      "source": [
        "import math\n",
        "def f(r, theta):\n",
        "    return r * theta - 3\n",
        "def df_dr(r, theta):\n",
        "    return theta\n",
        "def df_dtheta(r, theta):\n",
        "    return r\n",
        "def g(r, theta):\n",
        "    return 2 - 2 * r * math.sin(theta / 2)\n",
        "def dg_dr(r, theta):\n",
        "    return -2 * math.sin(theta / 2)\n",
        "def dg_dtheta(r, theta):\n",
        "    return r * math.cos(theta / 2)\n",
        "def newtons_method(r_guess, theta_guess, tol=1e-6, max_iter=100):\n",
        "    r = r_guess\n",
        "    theta = theta_guess\n",
        "    for _ in range(max_iter):\n",
        "        f_val = f(r, theta)\n",
        "        g_val = g(r, theta)\n",
        "        if abs(f_val) < tol and abs(g_val) < tol:\n",
        "            return r, theta\n",
        "        f_prime_r = df_dr(r, theta)\n",
        "        f_prime_theta = df_dtheta(r, theta)\n",
        "        g_prime_r = dg_dr(r, theta)\n",
        "        g_prime_theta = dg_dtheta(r, theta)\n",
        "        determinant = f_prime_r * g_prime_theta - f_prime_theta * g_prime_r\n",
        "        delta_r = (-g_prime_theta * f_val + f_prime_theta * g_val) / determinant\n",
        "        delta_theta = (g_prime_r * f_val - f_prime_r * g_val) / determinant\n",
        "        r += delta_r\n",
        "        theta += delta_theta\n",
        "    return None\n",
        "r_guess = 1\n",
        "theta_guess = math.pi / 2\n",
        "r, theta = newtons_method(r_guess, theta_guess)\n",
        "if r is not None:\n",
        "    print(\"The radius of the circle is:\", round(r, 4))\n",
        "    print(\"The angle 𝜽 is:\", round(theta, 4))\n",
        "else:\n",
        "    print(\"Failed to converge.\")\n",
        "\n"
      ],
      "metadata": {
        "colab": {
          "base_uri": "https://localhost:8080/"
        },
        "id": "DuXO3sOUFGNO",
        "outputId": "fc6d2941-1513-4c12-bc15-a6a1542ba88c"
      },
      "execution_count": 5,
      "outputs": [
        {
          "output_type": "stream",
          "name": "stdout",
          "text": [
            "The radius of the circle is: 1.0028\n",
            "The angle 𝜽 is: 2.9916\n"
          ]
        }
      ]
    }
  ]
}